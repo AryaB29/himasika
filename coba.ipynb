{
 "cells": [
  {
   "cell_type": "code",
   "execution_count": 6,
   "metadata": {},
   "outputs": [],
   "source": [
    "import pandas as pd\n",
    "import numpy as np\n",
    "import plotly as plot\n",
    "import plotly.express as px"
   ]
  },
  {
   "cell_type": "code",
   "execution_count": 2,
   "metadata": {},
   "outputs": [],
   "source": [
    "data = pd.read_csv(r'C:\\Users\\Acer\\OneDrive\\Documents\\Hima\\Coding\\Survey Kepuasan Himasika ITS.csv')"
   ]
  },
  {
   "cell_type": "code",
   "execution_count": 3,
   "metadata": {},
   "outputs": [
    {
     "data": {
      "text/html": [
       "<div>\n",
       "<style scoped>\n",
       "    .dataframe tbody tr th:only-of-type {\n",
       "        vertical-align: middle;\n",
       "    }\n",
       "\n",
       "    .dataframe tbody tr th {\n",
       "        vertical-align: top;\n",
       "    }\n",
       "\n",
       "    .dataframe thead th {\n",
       "        text-align: right;\n",
       "    }\n",
       "</style>\n",
       "<table border=\"1\" class=\"dataframe\">\n",
       "  <thead>\n",
       "    <tr style=\"text-align: right;\">\n",
       "      <th></th>\n",
       "      <th>S.NO</th>\n",
       "      <th>Submitted Time</th>\n",
       "      <th>1. Angkatan (Silahkan isi dengan tahun angkatan, contoh : 2018</th>\n",
       "      <th>2. Jenis Kelamin</th>\n",
       "      <th>3. Keaktifan Himpunan Di Sosial Media</th>\n",
       "      <th>4. Pelayanan Himpunan Pada Bidang Keprofesian</th>\n",
       "      <th>5. Pelayanan Himpunan Pada Bidang Minat Bakat</th>\n",
       "      <th>6. Pelayanan Himpunan Pada 4 Bidang Manajerial</th>\n",
       "      <th>7. Pelayanan Himpunan Pada 4 Bidang Kewirausahaan</th>\n",
       "      <th>8. Respons Himpunan Terhadap Aspirasi Anggota</th>\n",
       "      <th>9. Pelayanan himpunan pada bidang Keilmiahan</th>\n",
       "      <th>10. Pelayanan himpunan pada bidang Kesejahteraan Mahasiswa</th>\n",
       "      <th>11. Pelayanan himpunan pada bidang Sosial Masyarakat</th>\n",
       "      <th>12. Pelayanan himpunan pada bidang Pengembangan Sumber Daya Mahasiswa</th>\n",
       "      <th>13. Pelayanan himpunan pada bidang Internal Anggota</th>\n",
       "      <th>14. Pelayanan himpunan pada bidang Eksternalisasi</th>\n",
       "      <th>15. Pelayanan himpunan pada bidang Internasionalisasi</th>\n",
       "      <th>16. Kepuasan Terhadap Keseluruhan Pelayanan Himpunan</th>\n",
       "      <th>17. Apa sih feedback mu terhadap Himasika, dan apa yang dapat dikembangkan dari Himasika Untuk Kedepannya</th>\n",
       "    </tr>\n",
       "  </thead>\n",
       "  <tbody>\n",
       "    <tr>\n",
       "      <th>0</th>\n",
       "      <td>1</td>\n",
       "      <td>01-12-2021</td>\n",
       "      <td>2021</td>\n",
       "      <td>Perempuan</td>\n",
       "      <td>3</td>\n",
       "      <td>3</td>\n",
       "      <td>3</td>\n",
       "      <td>3</td>\n",
       "      <td>3</td>\n",
       "      <td>3</td>\n",
       "      <td>3</td>\n",
       "      <td>3</td>\n",
       "      <td>3</td>\n",
       "      <td>3</td>\n",
       "      <td>3</td>\n",
       "      <td>3</td>\n",
       "      <td>3</td>\n",
       "      <td>3</td>\n",
       "      <td>Semoga lebih baik kedepannya, semoga lebih akt...</td>\n",
       "    </tr>\n",
       "    <tr>\n",
       "      <th>1</th>\n",
       "      <td>2</td>\n",
       "      <td>01-12-2021</td>\n",
       "      <td>2021</td>\n",
       "      <td>Perempuan</td>\n",
       "      <td>3</td>\n",
       "      <td>2</td>\n",
       "      <td>4</td>\n",
       "      <td>3</td>\n",
       "      <td>4</td>\n",
       "      <td>4</td>\n",
       "      <td>3</td>\n",
       "      <td>3</td>\n",
       "      <td>4</td>\n",
       "      <td>4</td>\n",
       "      <td>4</td>\n",
       "      <td>3</td>\n",
       "      <td>2</td>\n",
       "      <td>4</td>\n",
       "      <td>No Answer</td>\n",
       "    </tr>\n",
       "    <tr>\n",
       "      <th>2</th>\n",
       "      <td>3</td>\n",
       "      <td>01-12-2021</td>\n",
       "      <td>2021</td>\n",
       "      <td>Perempuan</td>\n",
       "      <td>3</td>\n",
       "      <td>4</td>\n",
       "      <td>3</td>\n",
       "      <td>3</td>\n",
       "      <td>3</td>\n",
       "      <td>4</td>\n",
       "      <td>3</td>\n",
       "      <td>3</td>\n",
       "      <td>4</td>\n",
       "      <td>4</td>\n",
       "      <td>3</td>\n",
       "      <td>3</td>\n",
       "      <td>2</td>\n",
       "      <td>3</td>\n",
       "      <td>Kinerja Himasika sudah baik</td>\n",
       "    </tr>\n",
       "    <tr>\n",
       "      <th>3</th>\n",
       "      <td>4</td>\n",
       "      <td>01-12-2021</td>\n",
       "      <td>2021</td>\n",
       "      <td>Perempuan</td>\n",
       "      <td>4</td>\n",
       "      <td>3</td>\n",
       "      <td>3</td>\n",
       "      <td>3</td>\n",
       "      <td>3</td>\n",
       "      <td>3</td>\n",
       "      <td>4</td>\n",
       "      <td>3</td>\n",
       "      <td>3</td>\n",
       "      <td>3</td>\n",
       "      <td>3</td>\n",
       "      <td>3</td>\n",
       "      <td>2</td>\n",
       "      <td>3</td>\n",
       "      <td>Lebih aktif dan mengayomi mahasiswa/i Fisika</td>\n",
       "    </tr>\n",
       "    <tr>\n",
       "      <th>4</th>\n",
       "      <td>5</td>\n",
       "      <td>01-12-2021</td>\n",
       "      <td>2021</td>\n",
       "      <td>Perempuan</td>\n",
       "      <td>4</td>\n",
       "      <td>4</td>\n",
       "      <td>4</td>\n",
       "      <td>4</td>\n",
       "      <td>4</td>\n",
       "      <td>4</td>\n",
       "      <td>4</td>\n",
       "      <td>4</td>\n",
       "      <td>4</td>\n",
       "      <td>4</td>\n",
       "      <td>4</td>\n",
       "      <td>4</td>\n",
       "      <td>4</td>\n",
       "      <td>4</td>\n",
       "      <td>kedepannya bisa menyediakan pelayanan terbaik ...</td>\n",
       "    </tr>\n",
       "    <tr>\n",
       "      <th>...</th>\n",
       "      <td>...</td>\n",
       "      <td>...</td>\n",
       "      <td>...</td>\n",
       "      <td>...</td>\n",
       "      <td>...</td>\n",
       "      <td>...</td>\n",
       "      <td>...</td>\n",
       "      <td>...</td>\n",
       "      <td>...</td>\n",
       "      <td>...</td>\n",
       "      <td>...</td>\n",
       "      <td>...</td>\n",
       "      <td>...</td>\n",
       "      <td>...</td>\n",
       "      <td>...</td>\n",
       "      <td>...</td>\n",
       "      <td>...</td>\n",
       "      <td>...</td>\n",
       "      <td>...</td>\n",
       "    </tr>\n",
       "    <tr>\n",
       "      <th>162</th>\n",
       "      <td>163</td>\n",
       "      <td>02-12-2021</td>\n",
       "      <td>2020</td>\n",
       "      <td>Perempuan</td>\n",
       "      <td>3</td>\n",
       "      <td>3</td>\n",
       "      <td>3</td>\n",
       "      <td>3</td>\n",
       "      <td>3</td>\n",
       "      <td>3</td>\n",
       "      <td>3</td>\n",
       "      <td>3</td>\n",
       "      <td>3</td>\n",
       "      <td>3</td>\n",
       "      <td>3</td>\n",
       "      <td>3</td>\n",
       "      <td>3</td>\n",
       "      <td>3</td>\n",
       "      <td>mungkin feeds ig nya bisa lebih di perjelas la...</td>\n",
       "    </tr>\n",
       "    <tr>\n",
       "      <th>163</th>\n",
       "      <td>164</td>\n",
       "      <td>02-12-2021</td>\n",
       "      <td>2020</td>\n",
       "      <td>Laki - Laki</td>\n",
       "      <td>4</td>\n",
       "      <td>4</td>\n",
       "      <td>3</td>\n",
       "      <td>4</td>\n",
       "      <td>3</td>\n",
       "      <td>4</td>\n",
       "      <td>4</td>\n",
       "      <td>4</td>\n",
       "      <td>4</td>\n",
       "      <td>4</td>\n",
       "      <td>4</td>\n",
       "      <td>4</td>\n",
       "      <td>3</td>\n",
       "      <td>4</td>\n",
       "      <td>Terimakasih untuk himasika</td>\n",
       "    </tr>\n",
       "    <tr>\n",
       "      <th>164</th>\n",
       "      <td>165</td>\n",
       "      <td>02-12-2021</td>\n",
       "      <td>2020</td>\n",
       "      <td>Perempuan</td>\n",
       "      <td>3</td>\n",
       "      <td>3</td>\n",
       "      <td>3</td>\n",
       "      <td>3</td>\n",
       "      <td>3</td>\n",
       "      <td>3</td>\n",
       "      <td>3</td>\n",
       "      <td>3</td>\n",
       "      <td>3</td>\n",
       "      <td>3</td>\n",
       "      <td>3</td>\n",
       "      <td>3</td>\n",
       "      <td>3</td>\n",
       "      <td>3</td>\n",
       "      <td>Semoga kedepannya lebih baik lagi</td>\n",
       "    </tr>\n",
       "    <tr>\n",
       "      <th>165</th>\n",
       "      <td>166</td>\n",
       "      <td>03-12-2021</td>\n",
       "      <td>2020</td>\n",
       "      <td>Perempuan</td>\n",
       "      <td>3</td>\n",
       "      <td>3</td>\n",
       "      <td>3</td>\n",
       "      <td>3</td>\n",
       "      <td>3</td>\n",
       "      <td>3</td>\n",
       "      <td>3</td>\n",
       "      <td>3</td>\n",
       "      <td>3</td>\n",
       "      <td>3</td>\n",
       "      <td>3</td>\n",
       "      <td>3</td>\n",
       "      <td>3</td>\n",
       "      <td>3</td>\n",
       "      <td>Lebih transparan</td>\n",
       "    </tr>\n",
       "    <tr>\n",
       "      <th>166</th>\n",
       "      <td>167</td>\n",
       "      <td>03-12-2021</td>\n",
       "      <td>2021</td>\n",
       "      <td>Perempuan</td>\n",
       "      <td>4</td>\n",
       "      <td>4</td>\n",
       "      <td>4</td>\n",
       "      <td>4</td>\n",
       "      <td>4</td>\n",
       "      <td>4</td>\n",
       "      <td>4</td>\n",
       "      <td>4</td>\n",
       "      <td>3</td>\n",
       "      <td>4</td>\n",
       "      <td>3</td>\n",
       "      <td>4</td>\n",
       "      <td>4</td>\n",
       "      <td>4</td>\n",
       "      <td>Semoga himasika menjadi himpunan yang lebihh b...</td>\n",
       "    </tr>\n",
       "  </tbody>\n",
       "</table>\n",
       "<p>167 rows × 19 columns</p>\n",
       "</div>"
      ],
      "text/plain": [
       "     S.NO Submitted Time  \\\n",
       "0       1     01-12-2021   \n",
       "1       2     01-12-2021   \n",
       "2       3     01-12-2021   \n",
       "3       4     01-12-2021   \n",
       "4       5     01-12-2021   \n",
       "..    ...            ...   \n",
       "162   163     02-12-2021   \n",
       "163   164     02-12-2021   \n",
       "164   165     02-12-2021   \n",
       "165   166     03-12-2021   \n",
       "166   167     03-12-2021   \n",
       "\n",
       "     1. Angkatan (Silahkan isi dengan tahun angkatan, contoh : 2018  \\\n",
       "0                                                 2021                \n",
       "1                                                 2021                \n",
       "2                                                 2021                \n",
       "3                                                 2021                \n",
       "4                                                 2021                \n",
       "..                                                 ...                \n",
       "162                                               2020                \n",
       "163                                               2020                \n",
       "164                                               2020                \n",
       "165                                               2020                \n",
       "166                                               2021                \n",
       "\n",
       "    2. Jenis Kelamin  3. Keaktifan Himpunan Di Sosial Media  \\\n",
       "0          Perempuan                                      3   \n",
       "1          Perempuan                                      3   \n",
       "2          Perempuan                                      3   \n",
       "3          Perempuan                                      4   \n",
       "4          Perempuan                                      4   \n",
       "..               ...                                    ...   \n",
       "162        Perempuan                                      3   \n",
       "163      Laki - Laki                                      4   \n",
       "164        Perempuan                                      3   \n",
       "165        Perempuan                                      3   \n",
       "166        Perempuan                                      4   \n",
       "\n",
       "     4. Pelayanan Himpunan Pada Bidang Keprofesian  \\\n",
       "0                                                3   \n",
       "1                                                2   \n",
       "2                                                4   \n",
       "3                                                3   \n",
       "4                                                4   \n",
       "..                                             ...   \n",
       "162                                              3   \n",
       "163                                              4   \n",
       "164                                              3   \n",
       "165                                              3   \n",
       "166                                              4   \n",
       "\n",
       "     5. Pelayanan Himpunan Pada Bidang Minat Bakat  \\\n",
       "0                                                3   \n",
       "1                                                4   \n",
       "2                                                3   \n",
       "3                                                3   \n",
       "4                                                4   \n",
       "..                                             ...   \n",
       "162                                              3   \n",
       "163                                              3   \n",
       "164                                              3   \n",
       "165                                              3   \n",
       "166                                              4   \n",
       "\n",
       "     6. Pelayanan Himpunan Pada 4 Bidang Manajerial  \\\n",
       "0                                                 3   \n",
       "1                                                 3   \n",
       "2                                                 3   \n",
       "3                                                 3   \n",
       "4                                                 4   \n",
       "..                                              ...   \n",
       "162                                               3   \n",
       "163                                               4   \n",
       "164                                               3   \n",
       "165                                               3   \n",
       "166                                               4   \n",
       "\n",
       "     7. Pelayanan Himpunan Pada 4 Bidang Kewirausahaan  \\\n",
       "0                                                    3   \n",
       "1                                                    4   \n",
       "2                                                    3   \n",
       "3                                                    3   \n",
       "4                                                    4   \n",
       "..                                                 ...   \n",
       "162                                                  3   \n",
       "163                                                  3   \n",
       "164                                                  3   \n",
       "165                                                  3   \n",
       "166                                                  4   \n",
       "\n",
       "     8. Respons Himpunan Terhadap Aspirasi Anggota  \\\n",
       "0                                                3   \n",
       "1                                                4   \n",
       "2                                                4   \n",
       "3                                                3   \n",
       "4                                                4   \n",
       "..                                             ...   \n",
       "162                                              3   \n",
       "163                                              4   \n",
       "164                                              3   \n",
       "165                                              3   \n",
       "166                                              4   \n",
       "\n",
       "     9. Pelayanan himpunan pada bidang Keilmiahan  \\\n",
       "0                                               3   \n",
       "1                                               3   \n",
       "2                                               3   \n",
       "3                                               4   \n",
       "4                                               4   \n",
       "..                                            ...   \n",
       "162                                             3   \n",
       "163                                             4   \n",
       "164                                             3   \n",
       "165                                             3   \n",
       "166                                             4   \n",
       "\n",
       "     10. Pelayanan himpunan pada bidang Kesejahteraan Mahasiswa  \\\n",
       "0                                                    3            \n",
       "1                                                    3            \n",
       "2                                                    3            \n",
       "3                                                    3            \n",
       "4                                                    4            \n",
       "..                                                 ...            \n",
       "162                                                  3            \n",
       "163                                                  4            \n",
       "164                                                  3            \n",
       "165                                                  3            \n",
       "166                                                  4            \n",
       "\n",
       "     11. Pelayanan himpunan pada bidang Sosial Masyarakat  \\\n",
       "0                                                    3      \n",
       "1                                                    4      \n",
       "2                                                    4      \n",
       "3                                                    3      \n",
       "4                                                    4      \n",
       "..                                                 ...      \n",
       "162                                                  3      \n",
       "163                                                  4      \n",
       "164                                                  3      \n",
       "165                                                  3      \n",
       "166                                                  3      \n",
       "\n",
       "     12. Pelayanan himpunan pada bidang Pengembangan Sumber Daya Mahasiswa  \\\n",
       "0                                                    3                       \n",
       "1                                                    4                       \n",
       "2                                                    4                       \n",
       "3                                                    3                       \n",
       "4                                                    4                       \n",
       "..                                                 ...                       \n",
       "162                                                  3                       \n",
       "163                                                  4                       \n",
       "164                                                  3                       \n",
       "165                                                  3                       \n",
       "166                                                  4                       \n",
       "\n",
       "     13. Pelayanan himpunan pada bidang Internal Anggota  \\\n",
       "0                                                    3     \n",
       "1                                                    4     \n",
       "2                                                    3     \n",
       "3                                                    3     \n",
       "4                                                    4     \n",
       "..                                                 ...     \n",
       "162                                                  3     \n",
       "163                                                  4     \n",
       "164                                                  3     \n",
       "165                                                  3     \n",
       "166                                                  3     \n",
       "\n",
       "     14. Pelayanan himpunan pada bidang Eksternalisasi  \\\n",
       "0                                                    3   \n",
       "1                                                    3   \n",
       "2                                                    3   \n",
       "3                                                    3   \n",
       "4                                                    4   \n",
       "..                                                 ...   \n",
       "162                                                  3   \n",
       "163                                                  4   \n",
       "164                                                  3   \n",
       "165                                                  3   \n",
       "166                                                  4   \n",
       "\n",
       "     15. Pelayanan himpunan pada bidang Internasionalisasi  \\\n",
       "0                                                    3       \n",
       "1                                                    2       \n",
       "2                                                    2       \n",
       "3                                                    2       \n",
       "4                                                    4       \n",
       "..                                                 ...       \n",
       "162                                                  3       \n",
       "163                                                  3       \n",
       "164                                                  3       \n",
       "165                                                  3       \n",
       "166                                                  4       \n",
       "\n",
       "     16. Kepuasan Terhadap Keseluruhan Pelayanan Himpunan  \\\n",
       "0                                                    3      \n",
       "1                                                    4      \n",
       "2                                                    3      \n",
       "3                                                    3      \n",
       "4                                                    4      \n",
       "..                                                 ...      \n",
       "162                                                  3      \n",
       "163                                                  4      \n",
       "164                                                  3      \n",
       "165                                                  3      \n",
       "166                                                  4      \n",
       "\n",
       "    17. Apa sih feedback mu terhadap Himasika, dan apa yang dapat dikembangkan dari Himasika Untuk Kedepannya  \n",
       "0    Semoga lebih baik kedepannya, semoga lebih akt...                                                         \n",
       "1                                            No Answer                                                         \n",
       "2                          Kinerja Himasika sudah baik                                                         \n",
       "3         Lebih aktif dan mengayomi mahasiswa/i Fisika                                                         \n",
       "4    kedepannya bisa menyediakan pelayanan terbaik ...                                                         \n",
       "..                                                 ...                                                         \n",
       "162  mungkin feeds ig nya bisa lebih di perjelas la...                                                         \n",
       "163                         Terimakasih untuk himasika                                                         \n",
       "164                  Semoga kedepannya lebih baik lagi                                                         \n",
       "165                                   Lebih transparan                                                         \n",
       "166  Semoga himasika menjadi himpunan yang lebihh b...                                                         \n",
       "\n",
       "[167 rows x 19 columns]"
      ]
     },
     "execution_count": 3,
     "metadata": {},
     "output_type": "execute_result"
    }
   ],
   "source": [
    "data"
   ]
  },
  {
   "cell_type": "code",
   "execution_count": 4,
   "metadata": {},
   "outputs": [],
   "source": [
    "data_bersih = data.drop(columns=['S.NO','Submitted Time','17. Apa sih feedback mu terhadap Himasika, dan apa yang dapat dikembangkan dari Himasika Untuk Kedepannya'])"
   ]
  },
  {
   "cell_type": "code",
   "execution_count": 5,
   "metadata": {},
   "outputs": [
    {
     "data": {
      "text/html": [
       "<div>\n",
       "<style scoped>\n",
       "    .dataframe tbody tr th:only-of-type {\n",
       "        vertical-align: middle;\n",
       "    }\n",
       "\n",
       "    .dataframe tbody tr th {\n",
       "        vertical-align: top;\n",
       "    }\n",
       "\n",
       "    .dataframe thead th {\n",
       "        text-align: right;\n",
       "    }\n",
       "</style>\n",
       "<table border=\"1\" class=\"dataframe\">\n",
       "  <thead>\n",
       "    <tr style=\"text-align: right;\">\n",
       "      <th></th>\n",
       "      <th>1. Angkatan (Silahkan isi dengan tahun angkatan, contoh : 2018</th>\n",
       "      <th>2. Jenis Kelamin</th>\n",
       "      <th>3. Keaktifan Himpunan Di Sosial Media</th>\n",
       "      <th>4. Pelayanan Himpunan Pada Bidang Keprofesian</th>\n",
       "      <th>5. Pelayanan Himpunan Pada Bidang Minat Bakat</th>\n",
       "      <th>6. Pelayanan Himpunan Pada 4 Bidang Manajerial</th>\n",
       "      <th>7. Pelayanan Himpunan Pada 4 Bidang Kewirausahaan</th>\n",
       "      <th>8. Respons Himpunan Terhadap Aspirasi Anggota</th>\n",
       "      <th>9. Pelayanan himpunan pada bidang Keilmiahan</th>\n",
       "      <th>10. Pelayanan himpunan pada bidang Kesejahteraan Mahasiswa</th>\n",
       "      <th>11. Pelayanan himpunan pada bidang Sosial Masyarakat</th>\n",
       "      <th>12. Pelayanan himpunan pada bidang Pengembangan Sumber Daya Mahasiswa</th>\n",
       "      <th>13. Pelayanan himpunan pada bidang Internal Anggota</th>\n",
       "      <th>14. Pelayanan himpunan pada bidang Eksternalisasi</th>\n",
       "      <th>15. Pelayanan himpunan pada bidang Internasionalisasi</th>\n",
       "      <th>16. Kepuasan Terhadap Keseluruhan Pelayanan Himpunan</th>\n",
       "    </tr>\n",
       "  </thead>\n",
       "  <tbody>\n",
       "    <tr>\n",
       "      <th>0</th>\n",
       "      <td>2021</td>\n",
       "      <td>Perempuan</td>\n",
       "      <td>3</td>\n",
       "      <td>3</td>\n",
       "      <td>3</td>\n",
       "      <td>3</td>\n",
       "      <td>3</td>\n",
       "      <td>3</td>\n",
       "      <td>3</td>\n",
       "      <td>3</td>\n",
       "      <td>3</td>\n",
       "      <td>3</td>\n",
       "      <td>3</td>\n",
       "      <td>3</td>\n",
       "      <td>3</td>\n",
       "      <td>3</td>\n",
       "    </tr>\n",
       "    <tr>\n",
       "      <th>1</th>\n",
       "      <td>2021</td>\n",
       "      <td>Perempuan</td>\n",
       "      <td>3</td>\n",
       "      <td>2</td>\n",
       "      <td>4</td>\n",
       "      <td>3</td>\n",
       "      <td>4</td>\n",
       "      <td>4</td>\n",
       "      <td>3</td>\n",
       "      <td>3</td>\n",
       "      <td>4</td>\n",
       "      <td>4</td>\n",
       "      <td>4</td>\n",
       "      <td>3</td>\n",
       "      <td>2</td>\n",
       "      <td>4</td>\n",
       "    </tr>\n",
       "    <tr>\n",
       "      <th>2</th>\n",
       "      <td>2021</td>\n",
       "      <td>Perempuan</td>\n",
       "      <td>3</td>\n",
       "      <td>4</td>\n",
       "      <td>3</td>\n",
       "      <td>3</td>\n",
       "      <td>3</td>\n",
       "      <td>4</td>\n",
       "      <td>3</td>\n",
       "      <td>3</td>\n",
       "      <td>4</td>\n",
       "      <td>4</td>\n",
       "      <td>3</td>\n",
       "      <td>3</td>\n",
       "      <td>2</td>\n",
       "      <td>3</td>\n",
       "    </tr>\n",
       "    <tr>\n",
       "      <th>3</th>\n",
       "      <td>2021</td>\n",
       "      <td>Perempuan</td>\n",
       "      <td>4</td>\n",
       "      <td>3</td>\n",
       "      <td>3</td>\n",
       "      <td>3</td>\n",
       "      <td>3</td>\n",
       "      <td>3</td>\n",
       "      <td>4</td>\n",
       "      <td>3</td>\n",
       "      <td>3</td>\n",
       "      <td>3</td>\n",
       "      <td>3</td>\n",
       "      <td>3</td>\n",
       "      <td>2</td>\n",
       "      <td>3</td>\n",
       "    </tr>\n",
       "    <tr>\n",
       "      <th>4</th>\n",
       "      <td>2021</td>\n",
       "      <td>Perempuan</td>\n",
       "      <td>4</td>\n",
       "      <td>4</td>\n",
       "      <td>4</td>\n",
       "      <td>4</td>\n",
       "      <td>4</td>\n",
       "      <td>4</td>\n",
       "      <td>4</td>\n",
       "      <td>4</td>\n",
       "      <td>4</td>\n",
       "      <td>4</td>\n",
       "      <td>4</td>\n",
       "      <td>4</td>\n",
       "      <td>4</td>\n",
       "      <td>4</td>\n",
       "    </tr>\n",
       "    <tr>\n",
       "      <th>...</th>\n",
       "      <td>...</td>\n",
       "      <td>...</td>\n",
       "      <td>...</td>\n",
       "      <td>...</td>\n",
       "      <td>...</td>\n",
       "      <td>...</td>\n",
       "      <td>...</td>\n",
       "      <td>...</td>\n",
       "      <td>...</td>\n",
       "      <td>...</td>\n",
       "      <td>...</td>\n",
       "      <td>...</td>\n",
       "      <td>...</td>\n",
       "      <td>...</td>\n",
       "      <td>...</td>\n",
       "      <td>...</td>\n",
       "    </tr>\n",
       "    <tr>\n",
       "      <th>162</th>\n",
       "      <td>2020</td>\n",
       "      <td>Perempuan</td>\n",
       "      <td>3</td>\n",
       "      <td>3</td>\n",
       "      <td>3</td>\n",
       "      <td>3</td>\n",
       "      <td>3</td>\n",
       "      <td>3</td>\n",
       "      <td>3</td>\n",
       "      <td>3</td>\n",
       "      <td>3</td>\n",
       "      <td>3</td>\n",
       "      <td>3</td>\n",
       "      <td>3</td>\n",
       "      <td>3</td>\n",
       "      <td>3</td>\n",
       "    </tr>\n",
       "    <tr>\n",
       "      <th>163</th>\n",
       "      <td>2020</td>\n",
       "      <td>Laki - Laki</td>\n",
       "      <td>4</td>\n",
       "      <td>4</td>\n",
       "      <td>3</td>\n",
       "      <td>4</td>\n",
       "      <td>3</td>\n",
       "      <td>4</td>\n",
       "      <td>4</td>\n",
       "      <td>4</td>\n",
       "      <td>4</td>\n",
       "      <td>4</td>\n",
       "      <td>4</td>\n",
       "      <td>4</td>\n",
       "      <td>3</td>\n",
       "      <td>4</td>\n",
       "    </tr>\n",
       "    <tr>\n",
       "      <th>164</th>\n",
       "      <td>2020</td>\n",
       "      <td>Perempuan</td>\n",
       "      <td>3</td>\n",
       "      <td>3</td>\n",
       "      <td>3</td>\n",
       "      <td>3</td>\n",
       "      <td>3</td>\n",
       "      <td>3</td>\n",
       "      <td>3</td>\n",
       "      <td>3</td>\n",
       "      <td>3</td>\n",
       "      <td>3</td>\n",
       "      <td>3</td>\n",
       "      <td>3</td>\n",
       "      <td>3</td>\n",
       "      <td>3</td>\n",
       "    </tr>\n",
       "    <tr>\n",
       "      <th>165</th>\n",
       "      <td>2020</td>\n",
       "      <td>Perempuan</td>\n",
       "      <td>3</td>\n",
       "      <td>3</td>\n",
       "      <td>3</td>\n",
       "      <td>3</td>\n",
       "      <td>3</td>\n",
       "      <td>3</td>\n",
       "      <td>3</td>\n",
       "      <td>3</td>\n",
       "      <td>3</td>\n",
       "      <td>3</td>\n",
       "      <td>3</td>\n",
       "      <td>3</td>\n",
       "      <td>3</td>\n",
       "      <td>3</td>\n",
       "    </tr>\n",
       "    <tr>\n",
       "      <th>166</th>\n",
       "      <td>2021</td>\n",
       "      <td>Perempuan</td>\n",
       "      <td>4</td>\n",
       "      <td>4</td>\n",
       "      <td>4</td>\n",
       "      <td>4</td>\n",
       "      <td>4</td>\n",
       "      <td>4</td>\n",
       "      <td>4</td>\n",
       "      <td>4</td>\n",
       "      <td>3</td>\n",
       "      <td>4</td>\n",
       "      <td>3</td>\n",
       "      <td>4</td>\n",
       "      <td>4</td>\n",
       "      <td>4</td>\n",
       "    </tr>\n",
       "  </tbody>\n",
       "</table>\n",
       "<p>167 rows × 16 columns</p>\n",
       "</div>"
      ],
      "text/plain": [
       "     1. Angkatan (Silahkan isi dengan tahun angkatan, contoh : 2018  \\\n",
       "0                                                 2021                \n",
       "1                                                 2021                \n",
       "2                                                 2021                \n",
       "3                                                 2021                \n",
       "4                                                 2021                \n",
       "..                                                 ...                \n",
       "162                                               2020                \n",
       "163                                               2020                \n",
       "164                                               2020                \n",
       "165                                               2020                \n",
       "166                                               2021                \n",
       "\n",
       "    2. Jenis Kelamin  3. Keaktifan Himpunan Di Sosial Media  \\\n",
       "0          Perempuan                                      3   \n",
       "1          Perempuan                                      3   \n",
       "2          Perempuan                                      3   \n",
       "3          Perempuan                                      4   \n",
       "4          Perempuan                                      4   \n",
       "..               ...                                    ...   \n",
       "162        Perempuan                                      3   \n",
       "163      Laki - Laki                                      4   \n",
       "164        Perempuan                                      3   \n",
       "165        Perempuan                                      3   \n",
       "166        Perempuan                                      4   \n",
       "\n",
       "     4. Pelayanan Himpunan Pada Bidang Keprofesian  \\\n",
       "0                                                3   \n",
       "1                                                2   \n",
       "2                                                4   \n",
       "3                                                3   \n",
       "4                                                4   \n",
       "..                                             ...   \n",
       "162                                              3   \n",
       "163                                              4   \n",
       "164                                              3   \n",
       "165                                              3   \n",
       "166                                              4   \n",
       "\n",
       "     5. Pelayanan Himpunan Pada Bidang Minat Bakat  \\\n",
       "0                                                3   \n",
       "1                                                4   \n",
       "2                                                3   \n",
       "3                                                3   \n",
       "4                                                4   \n",
       "..                                             ...   \n",
       "162                                              3   \n",
       "163                                              3   \n",
       "164                                              3   \n",
       "165                                              3   \n",
       "166                                              4   \n",
       "\n",
       "     6. Pelayanan Himpunan Pada 4 Bidang Manajerial  \\\n",
       "0                                                 3   \n",
       "1                                                 3   \n",
       "2                                                 3   \n",
       "3                                                 3   \n",
       "4                                                 4   \n",
       "..                                              ...   \n",
       "162                                               3   \n",
       "163                                               4   \n",
       "164                                               3   \n",
       "165                                               3   \n",
       "166                                               4   \n",
       "\n",
       "     7. Pelayanan Himpunan Pada 4 Bidang Kewirausahaan  \\\n",
       "0                                                    3   \n",
       "1                                                    4   \n",
       "2                                                    3   \n",
       "3                                                    3   \n",
       "4                                                    4   \n",
       "..                                                 ...   \n",
       "162                                                  3   \n",
       "163                                                  3   \n",
       "164                                                  3   \n",
       "165                                                  3   \n",
       "166                                                  4   \n",
       "\n",
       "     8. Respons Himpunan Terhadap Aspirasi Anggota  \\\n",
       "0                                                3   \n",
       "1                                                4   \n",
       "2                                                4   \n",
       "3                                                3   \n",
       "4                                                4   \n",
       "..                                             ...   \n",
       "162                                              3   \n",
       "163                                              4   \n",
       "164                                              3   \n",
       "165                                              3   \n",
       "166                                              4   \n",
       "\n",
       "     9. Pelayanan himpunan pada bidang Keilmiahan  \\\n",
       "0                                               3   \n",
       "1                                               3   \n",
       "2                                               3   \n",
       "3                                               4   \n",
       "4                                               4   \n",
       "..                                            ...   \n",
       "162                                             3   \n",
       "163                                             4   \n",
       "164                                             3   \n",
       "165                                             3   \n",
       "166                                             4   \n",
       "\n",
       "     10. Pelayanan himpunan pada bidang Kesejahteraan Mahasiswa  \\\n",
       "0                                                    3            \n",
       "1                                                    3            \n",
       "2                                                    3            \n",
       "3                                                    3            \n",
       "4                                                    4            \n",
       "..                                                 ...            \n",
       "162                                                  3            \n",
       "163                                                  4            \n",
       "164                                                  3            \n",
       "165                                                  3            \n",
       "166                                                  4            \n",
       "\n",
       "     11. Pelayanan himpunan pada bidang Sosial Masyarakat  \\\n",
       "0                                                    3      \n",
       "1                                                    4      \n",
       "2                                                    4      \n",
       "3                                                    3      \n",
       "4                                                    4      \n",
       "..                                                 ...      \n",
       "162                                                  3      \n",
       "163                                                  4      \n",
       "164                                                  3      \n",
       "165                                                  3      \n",
       "166                                                  3      \n",
       "\n",
       "     12. Pelayanan himpunan pada bidang Pengembangan Sumber Daya Mahasiswa  \\\n",
       "0                                                    3                       \n",
       "1                                                    4                       \n",
       "2                                                    4                       \n",
       "3                                                    3                       \n",
       "4                                                    4                       \n",
       "..                                                 ...                       \n",
       "162                                                  3                       \n",
       "163                                                  4                       \n",
       "164                                                  3                       \n",
       "165                                                  3                       \n",
       "166                                                  4                       \n",
       "\n",
       "     13. Pelayanan himpunan pada bidang Internal Anggota  \\\n",
       "0                                                    3     \n",
       "1                                                    4     \n",
       "2                                                    3     \n",
       "3                                                    3     \n",
       "4                                                    4     \n",
       "..                                                 ...     \n",
       "162                                                  3     \n",
       "163                                                  4     \n",
       "164                                                  3     \n",
       "165                                                  3     \n",
       "166                                                  3     \n",
       "\n",
       "     14. Pelayanan himpunan pada bidang Eksternalisasi  \\\n",
       "0                                                    3   \n",
       "1                                                    3   \n",
       "2                                                    3   \n",
       "3                                                    3   \n",
       "4                                                    4   \n",
       "..                                                 ...   \n",
       "162                                                  3   \n",
       "163                                                  4   \n",
       "164                                                  3   \n",
       "165                                                  3   \n",
       "166                                                  4   \n",
       "\n",
       "     15. Pelayanan himpunan pada bidang Internasionalisasi  \\\n",
       "0                                                    3       \n",
       "1                                                    2       \n",
       "2                                                    2       \n",
       "3                                                    2       \n",
       "4                                                    4       \n",
       "..                                                 ...       \n",
       "162                                                  3       \n",
       "163                                                  3       \n",
       "164                                                  3       \n",
       "165                                                  3       \n",
       "166                                                  4       \n",
       "\n",
       "     16. Kepuasan Terhadap Keseluruhan Pelayanan Himpunan  \n",
       "0                                                    3     \n",
       "1                                                    4     \n",
       "2                                                    3     \n",
       "3                                                    3     \n",
       "4                                                    4     \n",
       "..                                                 ...     \n",
       "162                                                  3     \n",
       "163                                                  4     \n",
       "164                                                  3     \n",
       "165                                                  3     \n",
       "166                                                  4     \n",
       "\n",
       "[167 rows x 16 columns]"
      ]
     },
     "execution_count": 5,
     "metadata": {},
     "output_type": "execute_result"
    }
   ],
   "source": [
    "data_bersih"
   ]
  },
  {
   "cell_type": "code",
   "execution_count": 9,
   "metadata": {},
   "outputs": [
    {
     "data": {
      "text/plain": [
       "Index(['1. Angkatan (Silahkan isi dengan tahun angkatan, contoh : 2018',\n",
       "       '2. Jenis Kelamin', '3. Keaktifan Himpunan Di Sosial Media',\n",
       "       '4. Pelayanan Himpunan Pada Bidang Keprofesian',\n",
       "       '5. Pelayanan Himpunan Pada Bidang Minat Bakat',\n",
       "       '6. Pelayanan Himpunan Pada 4 Bidang Manajerial',\n",
       "       '7. Pelayanan Himpunan Pada 4 Bidang Kewirausahaan',\n",
       "       '8. Respons Himpunan Terhadap Aspirasi Anggota',\n",
       "       '9. Pelayanan himpunan pada bidang Keilmiahan',\n",
       "       '10. Pelayanan himpunan pada bidang Kesejahteraan Mahasiswa',\n",
       "       '11. Pelayanan himpunan pada bidang Sosial Masyarakat',\n",
       "       '12. Pelayanan himpunan pada bidang Pengembangan Sumber Daya Mahasiswa',\n",
       "       '13. Pelayanan himpunan pada bidang Internal Anggota',\n",
       "       '14. Pelayanan himpunan pada bidang Eksternalisasi',\n",
       "       '15. Pelayanan himpunan pada bidang Internasionalisasi',\n",
       "       '16. Kepuasan Terhadap Keseluruhan Pelayanan Himpunan'],\n",
       "      dtype='object')"
      ]
     },
     "execution_count": 9,
     "metadata": {},
     "output_type": "execute_result"
    }
   ],
   "source": [
    "data_bersih.columns"
   ]
  },
  {
   "cell_type": "code",
   "execution_count": 7,
   "metadata": {},
   "outputs": [
    {
     "data": {
      "application/vnd.plotly.v1+json": {
       "config": {
        "plotlyServerURL": "https://plot.ly"
       },
       "data": [
        {
         "domain": {
          "x": [
           0,
           1
          ],
          "y": [
           0,
           1
          ]
         },
         "hovertemplate": "label=%{label}<br>value=%{value}<extra></extra>",
         "labels": [
          2020,
          2021,
          2019,
          2920
         ],
         "legendgroup": "",
         "name": "",
         "showlegend": true,
         "type": "pie",
         "values": [
          133,
          32,
          1,
          1
         ]
        }
       ],
       "layout": {
        "legend": {
         "tracegroupgap": 0
        },
        "margin": {
         "t": 60
        },
        "template": {
         "data": {
          "bar": [
           {
            "error_x": {
             "color": "#2a3f5f"
            },
            "error_y": {
             "color": "#2a3f5f"
            },
            "marker": {
             "line": {
              "color": "#E5ECF6",
              "width": 0.5
             },
             "pattern": {
              "fillmode": "overlay",
              "size": 10,
              "solidity": 0.2
             }
            },
            "type": "bar"
           }
          ],
          "barpolar": [
           {
            "marker": {
             "line": {
              "color": "#E5ECF6",
              "width": 0.5
             },
             "pattern": {
              "fillmode": "overlay",
              "size": 10,
              "solidity": 0.2
             }
            },
            "type": "barpolar"
           }
          ],
          "carpet": [
           {
            "aaxis": {
             "endlinecolor": "#2a3f5f",
             "gridcolor": "white",
             "linecolor": "white",
             "minorgridcolor": "white",
             "startlinecolor": "#2a3f5f"
            },
            "baxis": {
             "endlinecolor": "#2a3f5f",
             "gridcolor": "white",
             "linecolor": "white",
             "minorgridcolor": "white",
             "startlinecolor": "#2a3f5f"
            },
            "type": "carpet"
           }
          ],
          "choropleth": [
           {
            "colorbar": {
             "outlinewidth": 0,
             "ticks": ""
            },
            "type": "choropleth"
           }
          ],
          "contour": [
           {
            "colorbar": {
             "outlinewidth": 0,
             "ticks": ""
            },
            "colorscale": [
             [
              0,
              "#0d0887"
             ],
             [
              0.1111111111111111,
              "#46039f"
             ],
             [
              0.2222222222222222,
              "#7201a8"
             ],
             [
              0.3333333333333333,
              "#9c179e"
             ],
             [
              0.4444444444444444,
              "#bd3786"
             ],
             [
              0.5555555555555556,
              "#d8576b"
             ],
             [
              0.6666666666666666,
              "#ed7953"
             ],
             [
              0.7777777777777778,
              "#fb9f3a"
             ],
             [
              0.8888888888888888,
              "#fdca26"
             ],
             [
              1,
              "#f0f921"
             ]
            ],
            "type": "contour"
           }
          ],
          "contourcarpet": [
           {
            "colorbar": {
             "outlinewidth": 0,
             "ticks": ""
            },
            "type": "contourcarpet"
           }
          ],
          "heatmap": [
           {
            "colorbar": {
             "outlinewidth": 0,
             "ticks": ""
            },
            "colorscale": [
             [
              0,
              "#0d0887"
             ],
             [
              0.1111111111111111,
              "#46039f"
             ],
             [
              0.2222222222222222,
              "#7201a8"
             ],
             [
              0.3333333333333333,
              "#9c179e"
             ],
             [
              0.4444444444444444,
              "#bd3786"
             ],
             [
              0.5555555555555556,
              "#d8576b"
             ],
             [
              0.6666666666666666,
              "#ed7953"
             ],
             [
              0.7777777777777778,
              "#fb9f3a"
             ],
             [
              0.8888888888888888,
              "#fdca26"
             ],
             [
              1,
              "#f0f921"
             ]
            ],
            "type": "heatmap"
           }
          ],
          "heatmapgl": [
           {
            "colorbar": {
             "outlinewidth": 0,
             "ticks": ""
            },
            "colorscale": [
             [
              0,
              "#0d0887"
             ],
             [
              0.1111111111111111,
              "#46039f"
             ],
             [
              0.2222222222222222,
              "#7201a8"
             ],
             [
              0.3333333333333333,
              "#9c179e"
             ],
             [
              0.4444444444444444,
              "#bd3786"
             ],
             [
              0.5555555555555556,
              "#d8576b"
             ],
             [
              0.6666666666666666,
              "#ed7953"
             ],
             [
              0.7777777777777778,
              "#fb9f3a"
             ],
             [
              0.8888888888888888,
              "#fdca26"
             ],
             [
              1,
              "#f0f921"
             ]
            ],
            "type": "heatmapgl"
           }
          ],
          "histogram": [
           {
            "marker": {
             "pattern": {
              "fillmode": "overlay",
              "size": 10,
              "solidity": 0.2
             }
            },
            "type": "histogram"
           }
          ],
          "histogram2d": [
           {
            "colorbar": {
             "outlinewidth": 0,
             "ticks": ""
            },
            "colorscale": [
             [
              0,
              "#0d0887"
             ],
             [
              0.1111111111111111,
              "#46039f"
             ],
             [
              0.2222222222222222,
              "#7201a8"
             ],
             [
              0.3333333333333333,
              "#9c179e"
             ],
             [
              0.4444444444444444,
              "#bd3786"
             ],
             [
              0.5555555555555556,
              "#d8576b"
             ],
             [
              0.6666666666666666,
              "#ed7953"
             ],
             [
              0.7777777777777778,
              "#fb9f3a"
             ],
             [
              0.8888888888888888,
              "#fdca26"
             ],
             [
              1,
              "#f0f921"
             ]
            ],
            "type": "histogram2d"
           }
          ],
          "histogram2dcontour": [
           {
            "colorbar": {
             "outlinewidth": 0,
             "ticks": ""
            },
            "colorscale": [
             [
              0,
              "#0d0887"
             ],
             [
              0.1111111111111111,
              "#46039f"
             ],
             [
              0.2222222222222222,
              "#7201a8"
             ],
             [
              0.3333333333333333,
              "#9c179e"
             ],
             [
              0.4444444444444444,
              "#bd3786"
             ],
             [
              0.5555555555555556,
              "#d8576b"
             ],
             [
              0.6666666666666666,
              "#ed7953"
             ],
             [
              0.7777777777777778,
              "#fb9f3a"
             ],
             [
              0.8888888888888888,
              "#fdca26"
             ],
             [
              1,
              "#f0f921"
             ]
            ],
            "type": "histogram2dcontour"
           }
          ],
          "mesh3d": [
           {
            "colorbar": {
             "outlinewidth": 0,
             "ticks": ""
            },
            "type": "mesh3d"
           }
          ],
          "parcoords": [
           {
            "line": {
             "colorbar": {
              "outlinewidth": 0,
              "ticks": ""
             }
            },
            "type": "parcoords"
           }
          ],
          "pie": [
           {
            "automargin": true,
            "type": "pie"
           }
          ],
          "scatter": [
           {
            "marker": {
             "colorbar": {
              "outlinewidth": 0,
              "ticks": ""
             }
            },
            "type": "scatter"
           }
          ],
          "scatter3d": [
           {
            "line": {
             "colorbar": {
              "outlinewidth": 0,
              "ticks": ""
             }
            },
            "marker": {
             "colorbar": {
              "outlinewidth": 0,
              "ticks": ""
             }
            },
            "type": "scatter3d"
           }
          ],
          "scattercarpet": [
           {
            "marker": {
             "colorbar": {
              "outlinewidth": 0,
              "ticks": ""
             }
            },
            "type": "scattercarpet"
           }
          ],
          "scattergeo": [
           {
            "marker": {
             "colorbar": {
              "outlinewidth": 0,
              "ticks": ""
             }
            },
            "type": "scattergeo"
           }
          ],
          "scattergl": [
           {
            "marker": {
             "colorbar": {
              "outlinewidth": 0,
              "ticks": ""
             }
            },
            "type": "scattergl"
           }
          ],
          "scattermapbox": [
           {
            "marker": {
             "colorbar": {
              "outlinewidth": 0,
              "ticks": ""
             }
            },
            "type": "scattermapbox"
           }
          ],
          "scatterpolar": [
           {
            "marker": {
             "colorbar": {
              "outlinewidth": 0,
              "ticks": ""
             }
            },
            "type": "scatterpolar"
           }
          ],
          "scatterpolargl": [
           {
            "marker": {
             "colorbar": {
              "outlinewidth": 0,
              "ticks": ""
             }
            },
            "type": "scatterpolargl"
           }
          ],
          "scatterternary": [
           {
            "marker": {
             "colorbar": {
              "outlinewidth": 0,
              "ticks": ""
             }
            },
            "type": "scatterternary"
           }
          ],
          "surface": [
           {
            "colorbar": {
             "outlinewidth": 0,
             "ticks": ""
            },
            "colorscale": [
             [
              0,
              "#0d0887"
             ],
             [
              0.1111111111111111,
              "#46039f"
             ],
             [
              0.2222222222222222,
              "#7201a8"
             ],
             [
              0.3333333333333333,
              "#9c179e"
             ],
             [
              0.4444444444444444,
              "#bd3786"
             ],
             [
              0.5555555555555556,
              "#d8576b"
             ],
             [
              0.6666666666666666,
              "#ed7953"
             ],
             [
              0.7777777777777778,
              "#fb9f3a"
             ],
             [
              0.8888888888888888,
              "#fdca26"
             ],
             [
              1,
              "#f0f921"
             ]
            ],
            "type": "surface"
           }
          ],
          "table": [
           {
            "cells": {
             "fill": {
              "color": "#EBF0F8"
             },
             "line": {
              "color": "white"
             }
            },
            "header": {
             "fill": {
              "color": "#C8D4E3"
             },
             "line": {
              "color": "white"
             }
            },
            "type": "table"
           }
          ]
         },
         "layout": {
          "annotationdefaults": {
           "arrowcolor": "#2a3f5f",
           "arrowhead": 0,
           "arrowwidth": 1
          },
          "autotypenumbers": "strict",
          "coloraxis": {
           "colorbar": {
            "outlinewidth": 0,
            "ticks": ""
           }
          },
          "colorscale": {
           "diverging": [
            [
             0,
             "#8e0152"
            ],
            [
             0.1,
             "#c51b7d"
            ],
            [
             0.2,
             "#de77ae"
            ],
            [
             0.3,
             "#f1b6da"
            ],
            [
             0.4,
             "#fde0ef"
            ],
            [
             0.5,
             "#f7f7f7"
            ],
            [
             0.6,
             "#e6f5d0"
            ],
            [
             0.7,
             "#b8e186"
            ],
            [
             0.8,
             "#7fbc41"
            ],
            [
             0.9,
             "#4d9221"
            ],
            [
             1,
             "#276419"
            ]
           ],
           "sequential": [
            [
             0,
             "#0d0887"
            ],
            [
             0.1111111111111111,
             "#46039f"
            ],
            [
             0.2222222222222222,
             "#7201a8"
            ],
            [
             0.3333333333333333,
             "#9c179e"
            ],
            [
             0.4444444444444444,
             "#bd3786"
            ],
            [
             0.5555555555555556,
             "#d8576b"
            ],
            [
             0.6666666666666666,
             "#ed7953"
            ],
            [
             0.7777777777777778,
             "#fb9f3a"
            ],
            [
             0.8888888888888888,
             "#fdca26"
            ],
            [
             1,
             "#f0f921"
            ]
           ],
           "sequentialminus": [
            [
             0,
             "#0d0887"
            ],
            [
             0.1111111111111111,
             "#46039f"
            ],
            [
             0.2222222222222222,
             "#7201a8"
            ],
            [
             0.3333333333333333,
             "#9c179e"
            ],
            [
             0.4444444444444444,
             "#bd3786"
            ],
            [
             0.5555555555555556,
             "#d8576b"
            ],
            [
             0.6666666666666666,
             "#ed7953"
            ],
            [
             0.7777777777777778,
             "#fb9f3a"
            ],
            [
             0.8888888888888888,
             "#fdca26"
            ],
            [
             1,
             "#f0f921"
            ]
           ]
          },
          "colorway": [
           "#636efa",
           "#EF553B",
           "#00cc96",
           "#ab63fa",
           "#FFA15A",
           "#19d3f3",
           "#FF6692",
           "#B6E880",
           "#FF97FF",
           "#FECB52"
          ],
          "font": {
           "color": "#2a3f5f"
          },
          "geo": {
           "bgcolor": "white",
           "lakecolor": "white",
           "landcolor": "#E5ECF6",
           "showlakes": true,
           "showland": true,
           "subunitcolor": "white"
          },
          "hoverlabel": {
           "align": "left"
          },
          "hovermode": "closest",
          "mapbox": {
           "style": "light"
          },
          "paper_bgcolor": "white",
          "plot_bgcolor": "#E5ECF6",
          "polar": {
           "angularaxis": {
            "gridcolor": "white",
            "linecolor": "white",
            "ticks": ""
           },
           "bgcolor": "#E5ECF6",
           "radialaxis": {
            "gridcolor": "white",
            "linecolor": "white",
            "ticks": ""
           }
          },
          "scene": {
           "xaxis": {
            "backgroundcolor": "#E5ECF6",
            "gridcolor": "white",
            "gridwidth": 2,
            "linecolor": "white",
            "showbackground": true,
            "ticks": "",
            "zerolinecolor": "white"
           },
           "yaxis": {
            "backgroundcolor": "#E5ECF6",
            "gridcolor": "white",
            "gridwidth": 2,
            "linecolor": "white",
            "showbackground": true,
            "ticks": "",
            "zerolinecolor": "white"
           },
           "zaxis": {
            "backgroundcolor": "#E5ECF6",
            "gridcolor": "white",
            "gridwidth": 2,
            "linecolor": "white",
            "showbackground": true,
            "ticks": "",
            "zerolinecolor": "white"
           }
          },
          "shapedefaults": {
           "line": {
            "color": "#2a3f5f"
           }
          },
          "ternary": {
           "aaxis": {
            "gridcolor": "white",
            "linecolor": "white",
            "ticks": ""
           },
           "baxis": {
            "gridcolor": "white",
            "linecolor": "white",
            "ticks": ""
           },
           "bgcolor": "#E5ECF6",
           "caxis": {
            "gridcolor": "white",
            "linecolor": "white",
            "ticks": ""
           }
          },
          "title": {
           "x": 0.05
          },
          "xaxis": {
           "automargin": true,
           "gridcolor": "white",
           "linecolor": "white",
           "ticks": "",
           "title": {
            "standoff": 15
           },
           "zerolinecolor": "white",
           "zerolinewidth": 2
          },
          "yaxis": {
           "automargin": true,
           "gridcolor": "white",
           "linecolor": "white",
           "ticks": "",
           "title": {
            "standoff": 15
           },
           "zerolinecolor": "white",
           "zerolinewidth": 2
          }
         }
        }
       }
      }
     },
     "metadata": {},
     "output_type": "display_data"
    }
   ],
   "source": [
    "c = data_bersih['2. Jenis Kelamin'].value_counts().index\n",
    "d = data_bersih['2. Jenis Kelamin'].value_counts().values\n",
    "\n",
    "fig2 = px.pie(data_bersih,names=c,values=d)\n",
    "fig.show()"
   ]
  }
 ],
 "metadata": {
  "interpreter": {
   "hash": "f9a665eed82786d1db64405b5cfd0f8037f4571b806793cb1072a84e044fc7ff"
  },
  "kernelspec": {
   "display_name": "Python 3.9.6 64-bit",
   "language": "python",
   "name": "python3"
  },
  "language_info": {
   "codemirror_mode": {
    "name": "ipython",
    "version": 3
   },
   "file_extension": ".py",
   "mimetype": "text/x-python",
   "name": "python",
   "nbconvert_exporter": "python",
   "pygments_lexer": "ipython3",
   "version": "3.9.6"
  },
  "orig_nbformat": 4
 },
 "nbformat": 4,
 "nbformat_minor": 2
}
